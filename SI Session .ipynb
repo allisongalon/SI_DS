{
 "cells": [
  {
   "cell_type": "code",
   "execution_count": 2,
   "id": "ed2611c5",
   "metadata": {},
   "outputs": [],
   "source": [
    "from datascience import *"
   ]
  },
  {
   "cell_type": "code",
   "execution_count": 3,
   "id": "6e5bc5bd",
   "metadata": {},
   "outputs": [
    {
     "data": {
      "text/html": [
       "<table border=\"1\" class=\"dataframe\">\n",
       "    <thead>\n",
       "        <tr>\n",
       "            <th>Timestamp</th> <th>Surveyor</th> <th>GPA</th> <th>introversion/extroversion</th> <th>Pets</th> <th>Handed</th> <th>Sleep Position</th> <th>K-Pop</th> <th>K-Pop Group</th> <th>travel destination</th> <th>Birthplace </th> <th>Transfer destination</th> <th>Fear</th> <th>Music Genre</th> <th>Color </th>\n",
       "        </tr>\n",
       "    </thead>\n",
       "    <tbody>\n",
       "        <tr>\n",
       "            <td>8/17/2023 16:33</td> <td>Christian Le</td> <td>2.86</td> <td>6                        </td> <td>Dogs                </td> <td>Right-handed</td> <td>On my side    </td> <td>Yes  </td> <td>Le Sserafim</td> <td>Japan             </td> <td>Local                    </td> <td>UC                  </td> <td>Working                               </td> <td>Pop        </td> <td>Red       </td>\n",
       "        </tr>\n",
       "        <tr>\n",
       "            <td>8/17/2023 16:34</td> <td>Christian Le</td> <td>4   </td> <td>8                        </td> <td>nan                 </td> <td>Right-handed</td> <td>On my back    </td> <td>Yes  </td> <td>Le Sserafim</td> <td>Switzerland       </td> <td>Local                    </td> <td>UC                  </td> <td>A regretful life                      </td> <td>All        </td> <td>Black     </td>\n",
       "        </tr>\n",
       "        <tr>\n",
       "            <td>8/17/2023 16:38</td> <td>Christian Le</td> <td>2.5 </td> <td>8                        </td> <td>Cats                </td> <td>Right-handed</td> <td>On my stomach </td> <td>Yes  </td> <td>Seventeen  </td> <td>Hawaii            </td> <td>Local                    </td> <td>UC Transfer         </td> <td>Death, Spiders                        </td> <td>R&B, K-POP </td> <td>Green     </td>\n",
       "        </tr>\n",
       "        <tr>\n",
       "            <td>8/17/2023 16:38</td> <td>Christian Le</td> <td>3.96</td> <td>6                        </td> <td>Cats                </td> <td>Right-handed</td> <td>On my side    </td> <td>Yes  </td> <td>STAYC      </td> <td>Costa Rica        </td> <td>Local                    </td> <td>UC Grad             </td> <td>Loss of loved ones                    </td> <td>R&B, K-POP </td> <td>Purple    </td>\n",
       "        </tr>\n",
       "        <tr>\n",
       "            <td>8/17/2023 16:54</td> <td>Christian Le</td> <td>2.98</td> <td>6                        </td> <td>nan                 </td> <td>Left-handed </td> <td>On my side    </td> <td>Yes  </td> <td>New Jeans  </td> <td>Hawaii            </td> <td>Local                    </td> <td>nan                 </td> <td>Death                                 </td> <td>R&B        </td> <td>Green     </td>\n",
       "        </tr>\n",
       "        <tr>\n",
       "            <td>8/17/2023 16:55</td> <td>Christian Le</td> <td>3.8 </td> <td>8                        </td> <td>Dogs                </td> <td>Right-handed</td> <td>On my side    </td> <td>Yes  </td> <td>New Jeans  </td> <td>Hawaii            </td> <td>Local                    </td> <td>UC                  </td> <td>Being alone                           </td> <td>R&B        </td> <td>Blue      </td>\n",
       "        </tr>\n",
       "        <tr>\n",
       "            <td>8/17/2023 17:00</td> <td>Christian Le</td> <td>4   </td> <td>3                        </td> <td>nan                 </td> <td>Right-handed</td> <td>On my back    </td> <td>No   </td> <td>nan        </td> <td>Japan             </td> <td>California (not Bay Area)</td> <td>CSU                 </td> <td>Not being accepted into career program</td> <td>Hip hop    </td> <td>Khaki     </td>\n",
       "        </tr>\n",
       "        <tr>\n",
       "            <td>8/17/2023 18:13</td> <td>Christian Le</td> <td>4   </td> <td>2                        </td> <td>Cats, Dogs, Reptiles</td> <td>Both        </td> <td>On my stomach </td> <td>Yes  </td> <td>New Jeans  </td> <td>Dubai             </td> <td>Local                    </td> <td>UC                  </td> <td>Insects                               </td> <td>Pop        </td> <td>Red       </td>\n",
       "        </tr>\n",
       "        <tr>\n",
       "            <td>8/17/2023 20:38</td> <td>Casey So    </td> <td>3.86</td> <td>3                        </td> <td>Dogs                </td> <td>Right-handed</td> <td>On my back    </td> <td>Yes  </td> <td>Seventeen  </td> <td>Korea             </td> <td>Local                    </td> <td>UC                  </td> <td>Birds                                 </td> <td>Pop        </td> <td>Light Blue</td>\n",
       "        </tr>\n",
       "        <tr>\n",
       "            <td>8/17/2023 20:43</td> <td>Casey So    </td> <td>3.2 </td> <td>4                        </td> <td>nan                 </td> <td>Right-handed</td> <td>On my side    </td> <td>Yes  </td> <td>Twice      </td> <td>Philippines       </td> <td>Local                    </td> <td>UC                  </td> <td>Death                                 </td> <td>Pop        </td> <td>Blue      </td>\n",
       "        </tr>\n",
       "    </tbody>\n",
       "</table>\n",
       "<p>... (223 rows omitted)</p>"
      ],
      "text/plain": [
       "Timestamp       | Surveyor     | GPA  | introversion/extroversion | Pets                 | Handed       | Sleep Position | K-Pop | K-Pop Group | travel destination | Birthplace                | Transfer destination | Fear                                   | Music Genre | Color\n",
       "8/17/2023 16:33 | Christian Le | 2.86 | 6                         | Dogs                 | Right-handed | On my side     | Yes   | Le Sserafim | Japan              | Local                     | UC                   | Working                                | Pop         | Red\n",
       "8/17/2023 16:34 | Christian Le | 4    | 8                         | nan                  | Right-handed | On my back     | Yes   | Le Sserafim | Switzerland        | Local                     | UC                   | A regretful life                       | All         | Black\n",
       "8/17/2023 16:38 | Christian Le | 2.5  | 8                         | Cats                 | Right-handed | On my stomach  | Yes   | Seventeen   | Hawaii             | Local                     | UC Transfer          | Death, Spiders                         | R&B, K-POP  | Green\n",
       "8/17/2023 16:38 | Christian Le | 3.96 | 6                         | Cats                 | Right-handed | On my side     | Yes   | STAYC       | Costa Rica         | Local                     | UC Grad              | Loss of loved ones                     | R&B, K-POP  | Purple\n",
       "8/17/2023 16:54 | Christian Le | 2.98 | 6                         | nan                  | Left-handed  | On my side     | Yes   | New Jeans   | Hawaii             | Local                     | nan                  | Death                                  | R&B         | Green\n",
       "8/17/2023 16:55 | Christian Le | 3.8  | 8                         | Dogs                 | Right-handed | On my side     | Yes   | New Jeans   | Hawaii             | Local                     | UC                   | Being alone                            | R&B         | Blue\n",
       "8/17/2023 17:00 | Christian Le | 4    | 3                         | nan                  | Right-handed | On my back     | No    | nan         | Japan              | California (not Bay Area) | CSU                  | Not being accepted into career program | Hip hop     | Khaki\n",
       "8/17/2023 18:13 | Christian Le | 4    | 2                         | Cats, Dogs, Reptiles | Both         | On my stomach  | Yes   | New Jeans   | Dubai              | Local                     | UC                   | Insects                                | Pop         | Red\n",
       "8/17/2023 20:38 | Casey So     | 3.86 | 3                         | Dogs                 | Right-handed | On my back     | Yes   | Seventeen   | Korea              | Local                     | UC                   | Birds                                  | Pop         | Light Blue\n",
       "8/17/2023 20:43 | Casey So     | 3.2  | 4                         | nan                  | Right-handed | On my side     | Yes   | Twice       | Philippines        | Local                     | UC                   | Death                                  | Pop         | Blue\n",
       "... (223 rows omitted)"
      ]
     },
     "execution_count": 3,
     "metadata": {},
     "output_type": "execute_result"
    }
   ],
   "source": [
    "math211_survey = Table.read_table('Math211_FallSurvey.csv')\n",
    "math211_survey"
   ]
  },
  {
   "cell_type": "code",
   "execution_count": 4,
   "id": "aaead30b",
   "metadata": {},
   "outputs": [
    {
     "ename": "NameError",
     "evalue": "name 'K' is not defined",
     "output_type": "error",
     "traceback": [
      "\u001b[0;31m---------------------------------------------------------------------------\u001b[0m",
      "\u001b[0;31mNameError\u001b[0m                                 Traceback (most recent call last)",
      "Cell \u001b[0;32mIn[4], line 1\u001b[0m\n\u001b[0;32m----> 1\u001b[0m math211_survey\u001b[38;5;241m.\u001b[39mwhere(\u001b[43mK\u001b[49m\u001b[38;5;241m-\u001b[39mpop, are\u001b[38;5;241m.\u001b[39mequal_to(\u001b[38;5;124m'\u001b[39m\u001b[38;5;124mYes\u001b[39m\u001b[38;5;124m'\u001b[39m))\n",
      "\u001b[0;31mNameError\u001b[0m: name 'K' is not defined"
     ]
    }
   ],
   "source": [
    "math211_survey.where(K-pop, are.equal_to('Yes'))"
   ]
  },
  {
   "cell_type": "code",
   "execution_count": null,
   "id": "5c066f78",
   "metadata": {},
   "outputs": [],
   "source": []
  },
  {
   "cell_type": "code",
   "execution_count": null,
   "id": "2ad0d906",
   "metadata": {},
   "outputs": [],
   "source": []
  }
 ],
 "metadata": {
  "kernelspec": {
   "display_name": "Python 3 (ipykernel)",
   "language": "python",
   "name": "python3"
  },
  "language_info": {
   "codemirror_mode": {
    "name": "ipython",
    "version": 3
   },
   "file_extension": ".py",
   "mimetype": "text/x-python",
   "name": "python",
   "nbconvert_exporter": "python",
   "pygments_lexer": "ipython3",
   "version": "3.10.11"
  }
 },
 "nbformat": 4,
 "nbformat_minor": 5
}
